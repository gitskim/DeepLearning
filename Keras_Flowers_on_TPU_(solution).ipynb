{
  "nbformat": 4,
  "nbformat_minor": 0,
  "metadata": {
    "colab": {
      "name": "Keras Flowers on TPU (solution).ipynb",
      "version": "0.3.2",
      "provenance": [],
      "collapsed_sections": []
    },
    "kernelspec": {
      "name": "python3",
      "display_name": "Python 3"
    },
    "accelerator": "GPU"
  },
  "cells": [
    {
      "metadata": {
        "id": "Yd4z24wngWau",
        "colab_type": "text"
      },
      "cell_type": "markdown",
      "source": [
        "You can try this notebook on a GPU but you will quickly be switching to a TPU. For this model it's worth it."
      ]
    },
    {
      "metadata": {
        "id": "89B27-TGiDNB",
        "colab_type": "text"
      },
      "cell_type": "markdown",
      "source": [
        "## Imports and TPU detection"
      ]
    },
    {
      "metadata": {
        "id": "9u3d4Z7uQsmp",
        "colab_type": "code",
        "outputId": "a2a7c0f7-bdc7-465c-c5a9-4bdcf104087e",
        "colab": {
          "base_uri": "https://localhost:8080/",
          "height": 190
        }
      },
      "cell_type": "code",
      "source": [
        "import os\n",
        "import json\n",
        "import numpy as np\n",
        "from matplotlib import pyplot as plt\n",
        "os.environ['GCS_READ_CACHE_MAX_SIZE_MB'] = '1' # Hack around Colab/GCS cache bug\n",
        "import tensorflow as tf\n",
        "print(\"Tensorflow version \" + tf.__version__)\n",
        "\n",
        "# little wrinkle: Kears models do not yet work on TPU if eager mode is enabled\n",
        "# tf.enable_eager_execution()\n",
        "\n",
        "try: # TPU detection\n",
        "  tpu = tf.contrib.cluster_resolver.TPUClusterResolver() # Picks up a connected TPU on Google's Colab, ML Engine, Kubernetes and Deep Learning VMs accessed through the 'ctpu up' utility\n",
        "  #tpu = tf.contrib.cluster_resolver.TPUClusterResolver('MY_TPU_NAME') # If auto-detection does not work, you can pass the name of the TPU explicitly (tip: on a VM created with \"ctpu up\" the TPU has the same name as the VM)\n",
        "  USE_TPU = True\n",
        "  print('Running on TPU ', tpu.cluster_spec().as_dict()['worker'])\n",
        "except ValueError:\n",
        "  USE_TPU = False\n",
        "  print(\"Running on GPU or CPU\")"
      ],
      "execution_count": 2,
      "outputs": [
        {
          "output_type": "stream",
          "text": [
            "Tensorflow version 1.13.1\n",
            "\n",
            "WARNING: The TensorFlow contrib module will not be included in TensorFlow 2.0.\n",
            "For more information, please see:\n",
            "  * https://github.com/tensorflow/community/blob/master/rfcs/20180907-contrib-sunset.md\n",
            "  * https://github.com/tensorflow/addons\n",
            "If you depend on functionality not listed there, please file an issue.\n",
            "\n",
            "Running on GPU or CPU\n"
          ],
          "name": "stdout"
        }
      ]
    },
    {
      "metadata": {
        "colab_type": "code",
        "cellView": "form",
        "id": "tMy0zz6FXnJY",
        "colab": {}
      },
      "cell_type": "code",
      "source": [
        "#@title display utilities [RUN ME]\n",
        "\n",
        "def dataset_to_numpy_util(dataset, N):\n",
        "  dataset = dataset.batch(N)\n",
        "  \n",
        "  if tf.executing_eagerly():\n",
        "    # In eager mode, iterate in the Datset directly.\n",
        "    for images, labels, one_hot_labels in dataset:\n",
        "      numpy_images = images.numpy()\n",
        "      numpy_labels = labels.numpy()\n",
        "      numpy_one_hot_labels = one_hot_labels.numpy()\n",
        "      break;\n",
        "      \n",
        "  else: # In non-eager mode, must get the TF note that \n",
        "        # yields the nextitem and run it in a tf.Session.\n",
        "    get_next_item = dataset.make_one_shot_iterator().get_next()\n",
        "    with tf.Session() as ses:\n",
        "      (numpy_images,\n",
        "       numpy_labels,\n",
        "       numpy_one_hot_labels) = ses.run(get_next_item)\n",
        "\n",
        "  return numpy_images, numpy_labels, numpy_one_hot_labels\n",
        "\n",
        "def title_from_label_and_one_hot(label, one_hot_label):\n",
        "  return label.decode(\"utf-8\") + ' ' + str(one_hot_label)\n",
        "def title_from_label_and_target(label, correct_label):\n",
        "  correct = (label == correct_label)\n",
        "  return \"{} [{}{}{}]\".format(label.decode(\"utf-8\"), str(correct), ', shoud be ' if not correct else '',\n",
        "                              correct_label.decode(\"utf-8\") if not correct else ''), correct\n",
        "\n",
        "def display_one_flower(image, title, subplot, red=False):\n",
        "    plt.subplot(subplot)\n",
        "    plt.axis('off')\n",
        "    plt.imshow(image)\n",
        "    plt.title(title, fontsize=16, color='red' if red else 'black')\n",
        "    return subplot+1\n",
        "  \n",
        "def display_9_images_from_dataset(dataset):\n",
        "  subplot=331\n",
        "  plt.figure(figsize=(13,13))\n",
        "  images, labels, one_hot_labels = dataset_to_numpy_util(dataset, 9)\n",
        "  for i, image in enumerate(images):\n",
        "    title = title_from_label_and_one_hot(labels[i], one_hot_labels[i])\n",
        "    subplot = display_one_flower(image, title, subplot)\n",
        "    if subplot > 339:\n",
        "      break;\n",
        "              \n",
        "  plt.tight_layout()\n",
        "  plt.subplots_adjust(wspace=0.1, hspace=0.1)\n",
        "  plt.show()\n",
        "  \n",
        "def display_9_images_with_predictions(images, predictions, labels):\n",
        "  subplot=331\n",
        "  plt.figure(figsize=(13,13))\n",
        "  classes = np.array(CLASSES)[np.argmax(predictions, axis=-1)]\n",
        "  for i, image in enumerate(images):\n",
        "    title, correct = title_from_label_and_target(classes[i], labels[i])\n",
        "    subplot = display_one_flower(image, title, subplot, not correct)\n",
        "    if subplot > 339:\n",
        "      break;\n",
        "              \n",
        "  plt.tight_layout()\n",
        "  plt.subplots_adjust(wspace=0.1, hspace=0.1)\n",
        "  plt.show()\n",
        "  \n",
        "def display_training_curves(training, validation, title, subplot):\n",
        "  if subplot%10==1: # set up the subplots on the first call\n",
        "    plt.subplots(figsize=(10,10), facecolor='#F0F0F0')\n",
        "    plt.tight_layout()\n",
        "  ax = plt.subplot(subplot)\n",
        "  ax.set_facecolor('#F8F8F8')\n",
        "  ax.plot(training)\n",
        "  ax.plot(validation)\n",
        "  ax.set_title('model '+ title)\n",
        "  ax.set_ylabel(title)\n",
        "  ax.set_xlabel('epoch')\n",
        "  ax.legend(['train', 'valid.'])"
      ],
      "execution_count": 0,
      "outputs": []
    },
    {
      "metadata": {
        "id": "w9S3uKC_iXY5",
        "colab_type": "text"
      },
      "cell_type": "markdown",
      "source": [
        "## Configuration"
      ]
    },
    {
      "metadata": {
        "id": "M3G-2aUBQJ-H",
        "colab_type": "code",
        "outputId": "f8597020-92bb-4139-d121-f2c6ec939e30",
        "colab": {
          "base_uri": "https://localhost:8080/",
          "height": 71
        }
      },
      "cell_type": "code",
      "source": [
        "GCS_PATTERN = 'gs://flowers-public/tfrecords-jpeg-192x192/*.tfrec'\n",
        "IMAGE_SIZE = [192, 192]\n",
        "\n",
        "if USE_TPU:\n",
        "  BATCH_SIZE = 128  # On TPU in Keras, this is the per-core batch size. The global batch size is 8x this.\n",
        "else:\n",
        "  BATCH_SIZE = 32  # On Colab/GPU, a higher batch size does not help and sometimes does not fit on the GPU (OOM)\n",
        "\n",
        "VALIDATION_SPLIT = 0.19\n",
        "CLASSES = [b'daisy', b'dandelion', b'roses', b'sunflowers', b'tulips'] # do not change, maps to the labels in the data (folder names)\n",
        "\n",
        "# splitting data files between training and validation\n",
        "filenames = tf.gfile.Glob(GCS_PATTERN)\n",
        "split = int(len(filenames) * VALIDATION_SPLIT)\n",
        "training_filenames = filenames[split:]\n",
        "validation_filenames = filenames[:split]\n",
        "print(\"Pattern matches {} data files. Splitting dataset into {} training files and {} validation files\".format(len(filenames), len(training_filenames), len(validation_filenames)))\n",
        "validation_steps = int(3670 // len(filenames) * len(validation_filenames)) // BATCH_SIZE\n",
        "steps_per_epoch = int(3670 // len(filenames) * len(training_filenames)) // BATCH_SIZE\n",
        "print(\"With a batch size of {}, there will be {} batches per training epoch and {} batch(es) per validation run.\".format(BATCH_SIZE, steps_per_epoch, validation_steps))"
      ],
      "execution_count": 3,
      "outputs": [
        {
          "output_type": "stream",
          "text": [
            "Pattern matches 16 data files. Splitting dataset into 13 training files and 3 validation files\n",
            "With a batch size of 32, there will be 93 batches per training epoch and 21 batch(es) per validation run.\n"
          ],
          "name": "stdout"
        }
      ]
    },
    {
      "metadata": {
        "id": "kvPXiovhi3ZZ",
        "colab_type": "text"
      },
      "cell_type": "markdown",
      "source": [
        "## Read images and labels from TFRecords"
      ]
    },
    {
      "metadata": {
        "id": "LtAVr-4CP1rp",
        "colab_type": "code",
        "colab": {}
      },
      "cell_type": "code",
      "source": [
        "def read_tfrecord(example):\n",
        "    features = {\n",
        "        \"image\": tf.FixedLenFeature((), tf.string), # tf.string means byte string\n",
        "        \"label\": tf.FixedLenFeature((), tf.string),\n",
        "        \"one_hot_label\": tf.FixedLenFeature((), tf.string)\n",
        "    }\n",
        "    example = tf.parse_single_example(example, features)\n",
        "    image = tf.image.decode_jpeg(example['image'])\n",
        "    image = tf.cast(image, tf.float32) / 255.0  # convert image to floats in [0, 1] range\n",
        "    image = tf.reshape(image, [*IMAGE_SIZE, 3])\n",
        "    one_hot_label = tf.io.decode_raw(example['one_hot_label'], out_type=tf.uint8) # 'decode' byte string into byte list\n",
        "    one_hot_label = tf.cast(one_hot_label, tf.float32)  # convert one hot labels to floats\n",
        "    one_hot_label = tf.reshape(one_hot_label, [5])  # explicit fixed size needed on TPU\n",
        "    label = example['label']  # byte string\n",
        "    return image, label, one_hot_label\n",
        "\n",
        "def load_dataset(filenames):  \n",
        "  # read from tfrecs\n",
        "  records = tf.data.TFRecordDataset(filenames, num_parallel_reads=32)  # this will read from multiple GCS files in parallel\n",
        "  dataset = records.map(read_tfrecord, num_parallel_calls=32)\n",
        "  return dataset"
      ],
      "execution_count": 0,
      "outputs": []
    },
    {
      "metadata": {
        "id": "22rVDTx8wCqE",
        "colab_type": "text"
      },
      "cell_type": "markdown",
      "source": [
        "## training and validation datasets"
      ]
    },
    {
      "metadata": {
        "id": "7wxKyCklR4Gh",
        "colab_type": "code",
        "colab": {}
      },
      "cell_type": "code",
      "source": [
        "def features_and_targets(image, label, one_hot_label):\n",
        "  feature = image\n",
        "  target = one_hot_label\n",
        "  return feature, target  # for training, a Keras model needs 2 items: features and targets\n",
        "\n",
        "def get_batched_dataset(filenames):\n",
        "  dataset = load_dataset(filenames)\n",
        "  dataset = dataset.map(features_and_targets, num_parallel_calls=32)\n",
        "  dataset = dataset.cache()  # This dataset fits in RAM\n",
        "  dataset = dataset.repeat()\n",
        "  dataset = dataset.batch(BATCH_SIZE, drop_remainder=True) # drop_remainder needed on TPU\n",
        "  dataset = dataset.prefetch(-1) # prefetch next batch while training  (-1: autotune prefetch buffer size)\n",
        "  # should shuffle too but this dataset was well shuffled on disk already\n",
        "  return dataset\n",
        "\n",
        "def get_training_dataset():\n",
        "  return get_batched_dataset(training_filenames)\n",
        "\n",
        "def get_validation_dataset():\n",
        "  return get_batched_dataset(validation_filenames)\n",
        "\n"
      ],
      "execution_count": 0,
      "outputs": []
    },
    {
      "metadata": {
        "id": "ALtRUlxhw8Vt",
        "colab_type": "text"
      },
      "cell_type": "markdown",
      "source": [
        "## Model"
      ]
    },
    {
      "metadata": {
        "id": "XLJNVGwHUDy1",
        "colab_type": "code",
        "outputId": "419dfe64-2afb-4c9e-ba1f-550a3072c3a1",
        "colab": {
          "base_uri": "https://localhost:8080/",
          "height": 649
        }
      },
      "cell_type": "code",
      "source": [
        "l = tf.keras.layers\n",
        "\n",
        "model = tf.keras.Sequential([\n",
        "    # little wrinkle: specifying the input shape as a Keras InputLayer does not\n",
        "    # work on TPU yet. Please add an input shape on your first layer instead. \n",
        "    #l.InputLayer(input_shape=[*IMAGE_SIZE, 3]),\n",
        "    \n",
        "    l.Conv2D(kernel_size=3, filters=16, padding='same', activation='relu', input_shape=[*IMAGE_SIZE, 3]),\n",
        "    l.Conv2D(kernel_size=3, filters=30, padding='same', activation='relu'),\n",
        "    l.MaxPooling2D(pool_size=2),\n",
        "    l.Conv2D(kernel_size=3, filters=60, padding='same', activation='relu'),\n",
        "    l.MaxPooling2D(pool_size=2),\n",
        "    l.Conv2D(kernel_size=3, filters=90, padding='same', activation='relu'),\n",
        "    l.MaxPooling2D(pool_size=2),\n",
        "    l.Conv2D(kernel_size=3, filters=110, padding='same', activation='relu'),\n",
        "    l.MaxPooling2D(pool_size=2),\n",
        "    l.Conv2D(kernel_size=3, filters=130, padding='same', activation='relu'),\n",
        "    l.Conv2D(kernel_size=1, filters=40, padding='same', activation='relu'),\n",
        "    l.GlobalAveragePooling2D(),\n",
        "    l.Dense(5, activation='softmax')\n",
        "])\n",
        "\n",
        "model.compile(\n",
        "  optimizer=tf.train.AdamOptimizer(),\n",
        "  loss= 'categorical_crossentropy',\n",
        "  metrics=['accuracy'])\n",
        "\n",
        "model.summary()\n",
        "\n",
        "# little wrinkle: in eager mode, only tf.train.*Optimizer optimizers will work in model.compile,\n",
        "# not strings like 'adam' which map to Keras optimizers. Unfortunately the TF optimizers do not\n",
        "# support Keras learning rate schedules (tf.keras.callbacks.LearningRateScheduler).\n",
        "# A fix is in the works."
      ],
      "execution_count": 7,
      "outputs": [
        {
          "output_type": "stream",
          "text": [
            "WARNING:tensorflow:From /usr/local/lib/python3.6/dist-packages/tensorflow/python/ops/resource_variable_ops.py:435: colocate_with (from tensorflow.python.framework.ops) is deprecated and will be removed in a future version.\n",
            "Instructions for updating:\n",
            "Colocations handled automatically by placer.\n",
            "_________________________________________________________________\n",
            "Layer (type)                 Output Shape              Param #   \n",
            "=================================================================\n",
            "conv2d (Conv2D)              (None, 192, 192, 16)      448       \n",
            "_________________________________________________________________\n",
            "conv2d_1 (Conv2D)            (None, 192, 192, 30)      4350      \n",
            "_________________________________________________________________\n",
            "max_pooling2d (MaxPooling2D) (None, 96, 96, 30)        0         \n",
            "_________________________________________________________________\n",
            "conv2d_2 (Conv2D)            (None, 96, 96, 60)        16260     \n",
            "_________________________________________________________________\n",
            "max_pooling2d_1 (MaxPooling2 (None, 48, 48, 60)        0         \n",
            "_________________________________________________________________\n",
            "conv2d_3 (Conv2D)            (None, 48, 48, 90)        48690     \n",
            "_________________________________________________________________\n",
            "max_pooling2d_2 (MaxPooling2 (None, 24, 24, 90)        0         \n",
            "_________________________________________________________________\n",
            "conv2d_4 (Conv2D)            (None, 24, 24, 110)       89210     \n",
            "_________________________________________________________________\n",
            "max_pooling2d_3 (MaxPooling2 (None, 12, 12, 110)       0         \n",
            "_________________________________________________________________\n",
            "conv2d_5 (Conv2D)            (None, 12, 12, 130)       128830    \n",
            "_________________________________________________________________\n",
            "conv2d_6 (Conv2D)            (None, 12, 12, 40)        5240      \n",
            "_________________________________________________________________\n",
            "global_average_pooling2d (Gl (None, 40)                0         \n",
            "_________________________________________________________________\n",
            "dense (Dense)                (None, 5)                 205       \n",
            "=================================================================\n",
            "Total params: 293,233\n",
            "Trainable params: 293,233\n",
            "Non-trainable params: 0\n",
            "_________________________________________________________________\n"
          ],
          "name": "stdout"
        }
      ]
    },
    {
      "metadata": {
        "id": "dMfenMQcxAAb",
        "colab_type": "text"
      },
      "cell_type": "markdown",
      "source": [
        "## Training"
      ]
    },
    {
      "metadata": {
        "id": "S31AsAPt1Hcq",
        "colab_type": "code",
        "outputId": "cdb2d5c7-be7f-4fd8-d015-babd76ca0e83",
        "colab": {
          "base_uri": "https://localhost:8080/",
          "height": 326
        }
      },
      "cell_type": "code",
      "source": [
        "if USE_TPU:\n",
        "  tpu = tf.contrib.cluster_resolver.TPUClusterResolver()\n",
        "  strategy = tf.contrib.tpu.TPUDistributionStrategy(tpu)\n",
        "  tpu_model = tf.contrib.tpu.keras_to_tpu_model(model, strategy=strategy)"
      ],
      "execution_count": 8,
      "outputs": [
        {
          "output_type": "stream",
          "text": [
            "INFO:tensorflow:Querying Tensorflow master (grpc://10.116.109.194:8470) for TPU system metadata.\n",
            "INFO:tensorflow:Found TPU system:\n",
            "INFO:tensorflow:*** Num TPU Cores: 8\n",
            "INFO:tensorflow:*** Num TPU Workers: 1\n",
            "INFO:tensorflow:*** Num TPU Cores Per Worker: 8\n",
            "INFO:tensorflow:*** Available Device: _DeviceAttributes(/job:worker/replica:0/task:0/device:CPU:0, CPU, -1, 9715459070229549031)\n",
            "INFO:tensorflow:*** Available Device: _DeviceAttributes(/job:worker/replica:0/task:0/device:XLA_CPU:0, XLA_CPU, 17179869184, 15470957051766011948)\n",
            "INFO:tensorflow:*** Available Device: _DeviceAttributes(/job:worker/replica:0/task:0/device:TPU:0, TPU, 17179869184, 10771706888869789006)\n",
            "INFO:tensorflow:*** Available Device: _DeviceAttributes(/job:worker/replica:0/task:0/device:TPU:1, TPU, 17179869184, 11387197454294152643)\n",
            "INFO:tensorflow:*** Available Device: _DeviceAttributes(/job:worker/replica:0/task:0/device:TPU:2, TPU, 17179869184, 582302239671590268)\n",
            "INFO:tensorflow:*** Available Device: _DeviceAttributes(/job:worker/replica:0/task:0/device:TPU:3, TPU, 17179869184, 10921671065441853151)\n",
            "INFO:tensorflow:*** Available Device: _DeviceAttributes(/job:worker/replica:0/task:0/device:TPU:4, TPU, 17179869184, 13116302360090777114)\n",
            "INFO:tensorflow:*** Available Device: _DeviceAttributes(/job:worker/replica:0/task:0/device:TPU:5, TPU, 17179869184, 7620141434602666773)\n",
            "INFO:tensorflow:*** Available Device: _DeviceAttributes(/job:worker/replica:0/task:0/device:TPU:6, TPU, 17179869184, 7966777392592887310)\n",
            "INFO:tensorflow:*** Available Device: _DeviceAttributes(/job:worker/replica:0/task:0/device:TPU:7, TPU, 17179869184, 3530567267701337953)\n",
            "INFO:tensorflow:*** Available Device: _DeviceAttributes(/job:worker/replica:0/task:0/device:TPU_SYSTEM:0, TPU_SYSTEM, 17179869184, 386504683089175636)\n",
            "WARNING:tensorflow:tpu_model (from tensorflow.contrib.tpu.python.tpu.keras_support) is experimental and may change or be removed at any time, and without warning.\n"
          ],
          "name": "stdout"
        }
      ]
    },
    {
      "metadata": {
        "id": "wX9ISOABudWh",
        "colab_type": "code",
        "colab": {
          "base_uri": "https://localhost:8080/",
          "height": 1431
        },
        "outputId": "2ea938f0-ac5f-43eb-9ab2-5c4213022de5"
      },
      "cell_type": "code",
      "source": [
        "from tensorflow.keras.applications import VGG16\n",
        "from tensorflow.keras.models import Sequential\n",
        "from tensorflow.keras.layers import Conv2D, Dense, Dropout, Flatten, MaxPooling2D\n",
        "import tensorflow as tf\n",
        "\n",
        "conv_base = VGG16(weights='imagenet',include_top=False, input_shape=(192, 192, 3))\n",
        "\n",
        "model = Sequential()\n",
        "model.add(conv_base)\n",
        "model.add(Flatten())\n",
        "model.add(Dense(512, activation='relu'))\n",
        "model.add(Dense(5, activation='softmax'))\n",
        "model.compile(optimizer='adam', loss='categorical_crossentropy', metrics=['accuracy'])\n",
        "\n",
        "conv_base.trainable = False\n",
        "\n",
        "\n",
        "FLATTENED_SHAPE = 4 * 4 * 512\n",
        "\n",
        "\n",
        "history = model.fit(get_training_dataset(),epochs=50, batch_size=64, verbose=2,steps_per_epoch=steps_per_epoch, validation_data=get_validation_dataset(), validation_steps=validation_steps)\n",
        "# EPOCHS = 15\n",
        "\n",
        "# if USE_TPU:\n",
        "#   history = tpu_model.fit(get_training_dataset, steps_per_epoch=steps_per_epoch, epochs=EPOCHS,\n",
        "#                           validation_data=get_validation_dataset, validation_steps=validation_steps)\n",
        "#   # Little wrinkle: reading directly from dataset object not yet implemented\n",
        "#   # for Keras/TPU. Please use a function that returns a dataset.\n",
        "# else:\n",
        "#   history = model.fit(get_training_dataset(), steps_per_epoch=steps_per_epoch, epochs=EPOCHS,\n",
        "#                       validation_data=get_validation_dataset(), validation_steps=validation_steps)"
      ],
      "execution_count": 0,
      "outputs": [
        {
          "output_type": "stream",
          "text": [
            "WARNING:tensorflow:From /usr/local/lib/python3.6/dist-packages/tensorflow/python/ops/resource_variable_ops.py:435: colocate_with (from tensorflow.python.framework.ops) is deprecated and will be removed in a future version.\n",
            "Instructions for updating:\n",
            "Colocations handled automatically by placer.\n",
            "Downloading data from https://github.com/fchollet/deep-learning-models/releases/download/v0.1/vgg16_weights_tf_dim_ordering_tf_kernels_notop.h5\n",
            "58892288/58889256 [==============================] - 2s 0us/step\n",
            "WARNING:tensorflow:Discrepancy between trainable weights and collected trainable weights, did you set `model.trainable` without calling `model.compile` after ?\n",
            "WARNING:tensorflow:From /usr/local/lib/python3.6/dist-packages/tensorflow/python/ops/math_ops.py:3066: to_int32 (from tensorflow.python.ops.math_ops) is deprecated and will be removed in a future version.\n",
            "Instructions for updating:\n",
            "Use tf.cast instead.\n",
            "Epoch 1/50\n",
            " - 79s - loss: 12.0732 - acc: 0.2426 - val_loss: 12.2565 - val_acc: 0.2396\n",
            "Epoch 2/50\n",
            " - 63s - loss: 12.1590 - acc: 0.2456 - val_loss: 12.2805 - val_acc: 0.2381\n",
            "Epoch 3/50\n",
            " - 63s - loss: 12.1644 - acc: 0.2453 - val_loss: 12.3044 - val_acc: 0.2366\n",
            "Epoch 4/50\n",
            " - 63s - loss: 12.1536 - acc: 0.2460 - val_loss: 12.2805 - val_acc: 0.2381\n",
            "Epoch 5/50\n",
            " - 63s - loss: 12.1590 - acc: 0.2456 - val_loss: 12.2085 - val_acc: 0.2426\n",
            "Epoch 6/50\n",
            " - 63s - loss: 12.1590 - acc: 0.2456 - val_loss: 12.1845 - val_acc: 0.2440\n",
            "Epoch 7/50\n",
            " - 63s - loss: 12.1590 - acc: 0.2456 - val_loss: 12.2085 - val_acc: 0.2426\n",
            "Epoch 8/50\n",
            " - 63s - loss: 12.1590 - acc: 0.2456 - val_loss: 12.2565 - val_acc: 0.2396\n",
            "Epoch 9/50\n",
            " - 63s - loss: 12.1644 - acc: 0.2453 - val_loss: 12.2325 - val_acc: 0.2411\n",
            "Epoch 10/50\n",
            " - 63s - loss: 12.1590 - acc: 0.2456 - val_loss: 12.2565 - val_acc: 0.2396\n",
            "Epoch 11/50\n",
            " - 63s - loss: 12.1644 - acc: 0.2453 - val_loss: 12.2085 - val_acc: 0.2426\n",
            "Epoch 12/50\n",
            " - 63s - loss: 12.1590 - acc: 0.2456 - val_loss: 12.1845 - val_acc: 0.2440\n",
            "Epoch 13/50\n",
            " - 63s - loss: 12.1536 - acc: 0.2460 - val_loss: 12.1845 - val_acc: 0.2440\n",
            "Epoch 14/50\n",
            " - 63s - loss: 12.1644 - acc: 0.2453 - val_loss: 12.2805 - val_acc: 0.2381\n",
            "Epoch 15/50\n",
            " - 64s - loss: 12.1536 - acc: 0.2460 - val_loss: 12.2325 - val_acc: 0.2411\n",
            "Epoch 16/50\n",
            " - 63s - loss: 12.1644 - acc: 0.2453 - val_loss: 12.2325 - val_acc: 0.2411\n",
            "Epoch 17/50\n",
            " - 64s - loss: 12.1536 - acc: 0.2460 - val_loss: 12.2325 - val_acc: 0.2411\n",
            "Epoch 18/50\n",
            " - 63s - loss: 12.1536 - acc: 0.2460 - val_loss: 12.2085 - val_acc: 0.2426\n",
            "Epoch 19/50\n",
            " - 63s - loss: 12.1536 - acc: 0.2460 - val_loss: 12.2325 - val_acc: 0.2411\n",
            "Epoch 20/50\n",
            " - 63s - loss: 12.1590 - acc: 0.2456 - val_loss: 12.2325 - val_acc: 0.2411\n",
            "Epoch 21/50\n",
            " - 63s - loss: 12.1590 - acc: 0.2456 - val_loss: 12.2805 - val_acc: 0.2381\n",
            "Epoch 22/50\n",
            " - 63s - loss: 12.1590 - acc: 0.2456 - val_loss: 12.2805 - val_acc: 0.2381\n",
            "Epoch 23/50\n",
            " - 63s - loss: 12.1536 - acc: 0.2460 - val_loss: 12.2805 - val_acc: 0.2381\n",
            "Epoch 24/50\n",
            " - 63s - loss: 12.1536 - acc: 0.2460 - val_loss: 12.2325 - val_acc: 0.2411\n",
            "Epoch 25/50\n",
            " - 63s - loss: 12.1590 - acc: 0.2456 - val_loss: 12.2325 - val_acc: 0.2411\n",
            "Epoch 26/50\n",
            " - 63s - loss: 12.1590 - acc: 0.2456 - val_loss: 12.2805 - val_acc: 0.2381\n",
            "Epoch 27/50\n",
            " - 63s - loss: 12.1536 - acc: 0.2460 - val_loss: 12.2565 - val_acc: 0.2396\n",
            "Epoch 28/50\n",
            " - 63s - loss: 12.1590 - acc: 0.2456 - val_loss: 12.2565 - val_acc: 0.2396\n",
            "Epoch 29/50\n",
            " - 63s - loss: 12.1644 - acc: 0.2453 - val_loss: 12.2805 - val_acc: 0.2381\n",
            "Epoch 30/50\n",
            " - 63s - loss: 12.1590 - acc: 0.2456 - val_loss: 12.2085 - val_acc: 0.2426\n",
            "Epoch 31/50\n",
            " - 63s - loss: 12.1590 - acc: 0.2456 - val_loss: 12.2565 - val_acc: 0.2396\n",
            "Epoch 32/50\n",
            " - 63s - loss: 12.1590 - acc: 0.2456 - val_loss: 12.2325 - val_acc: 0.2411\n",
            "Epoch 33/50\n",
            " - 63s - loss: 12.1644 - acc: 0.2453 - val_loss: 12.2325 - val_acc: 0.2411\n",
            "Epoch 34/50\n",
            " - 63s - loss: 12.1590 - acc: 0.2456 - val_loss: 12.2325 - val_acc: 0.2411\n",
            "Epoch 35/50\n",
            " - 63s - loss: 12.1536 - acc: 0.2460 - val_loss: 12.2565 - val_acc: 0.2396\n",
            "Epoch 36/50\n",
            " - 63s - loss: 12.1644 - acc: 0.2453 - val_loss: 12.2325 - val_acc: 0.2411\n",
            "Epoch 37/50\n"
          ],
          "name": "stdout"
        }
      ]
    },
    {
      "metadata": {
        "id": "VngeUBIdyJ1T",
        "colab_type": "code",
        "colab": {}
      },
      "cell_type": "code",
      "source": [
        "print(history.history.keys())\n",
        "display_training_curves(history.history['acc'], history.history['val_acc'], 'accuracy', 211)\n",
        "display_training_curves(history.history['loss'], history.history['val_loss'], 'loss', 212)"
      ],
      "execution_count": 0,
      "outputs": []
    },
    {
      "metadata": {
        "id": "MKFMWzh0Yxsq",
        "colab_type": "text"
      },
      "cell_type": "markdown",
      "source": [
        "## Predictions"
      ]
    },
    {
      "metadata": {
        "id": "yMEsR851VDZb",
        "colab_type": "code",
        "colab": {}
      },
      "cell_type": "code",
      "source": [
        "# randomize the input so that you can execute multiple times to change results\n",
        "permutation = np.random.permutation(8*20)\n",
        "some_flowers, some_labels, some_one_hot_labels = (some_flowers[permutation], some_labels[permutation], some_one_hot_labels[permutation])\n",
        "\n",
        "if USE_TPU:\n",
        "  restored_model = model\n",
        "  restored_model.set_weights(tpu_model.get_weights()) # this copies the weights from TPU to CPU\n",
        "  predictions = restored_model.predict(some_flowers)\n",
        "  evaluations = restored_model.evaluate(some_flowers, some_one_hot_labels)\n",
        "else:\n",
        "  predictions = model.predict(some_flowers, batch_size=16)\n",
        "  evaluations = model.evaluate(some_flowers, some_one_hot_labels, batch_size=16)\n",
        "  \n",
        "print(np.array(CLASSES)[np.argmax(predictions, axis=-1)].tolist())\n",
        "print('[val_loss, val_acc]', evaluations)"
      ],
      "execution_count": 0,
      "outputs": []
    }
  ]
}