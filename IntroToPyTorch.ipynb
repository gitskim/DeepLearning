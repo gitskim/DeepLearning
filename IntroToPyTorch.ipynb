{
  "nbformat": 4,
  "nbformat_minor": 0,
  "metadata": {
    "colab": {
      "name": "IntroToPyTorch",
      "version": "0.3.2",
      "provenance": []
    },
    "kernelspec": {
      "name": "python3",
      "display_name": "Python 3"
    },
    "accelerator": "GPU"
  },
  "cells": [
    {
      "cell_type": "markdown",
      "metadata": {
        "id": "hlHjkcDCjyYH",
        "colab_type": "text"
      },
      "source": [
        "# Tensors\n",
        "\n",
        "* A generalization of matrices\n",
        "\n",
        "## Vector\n",
        "\n",
        "* One dimensional tensors\n",
        "\n",
        "## Matrix\n",
        "\n",
        "* 2-dimensional tensors\n",
        "\n",
        "\n"
      ]
    },
    {
      "cell_type": "markdown",
      "metadata": {
        "id": "hLO4lE2okuZj",
        "colab_type": "text"
      },
      "source": [
        "# Basic Single Layer Neural Networks With Vectors\n",
        "\n",
        "\n",
        "NOTE:\n",
        "\n",
        "torch.mm is more strict about the input shape as opposed to torch.matmul, which supports broadcasting, being able to give you a wrong output. \n",
        "\n",
        "\n",
        "* weights.reshape(a, b) - a new tensor with the same data as weights, but sometimes the actual data in memory isn't being changed and some other times it gives you a clone.\n",
        "* weights.reshape_(a, b) - the underscore is an in-place operation. It's changing only the tensor in memory without touching the data. \n",
        "  If you request the size that is more or less than the original shape, you can cut off the\n",
        "  original data\n",
        "* weights.view(a, b) - always returns a new data without touching any of the data in memory. For an impossible shape, it returns an error. \n",
        "\n",
        "torch.mm(features, weights.view(5, 1) is equivalent to torch.sum(features * weights) and (features * weights).sum(), \n",
        "only if it's using vectors not matrices, but using torch function is most efficient.\n"
      ]
    },
    {
      "cell_type": "code",
      "metadata": {
        "id": "Ku7feFA3QFje",
        "colab_type": "code",
        "colab": {}
      },
      "source": [
        "import torch\n",
        "import numpy as np"
      ],
      "execution_count": 0,
      "outputs": []
    },
    {
      "cell_type": "code",
      "metadata": {
        "id": "lqTHvq84k50Z",
        "colab_type": "code",
        "outputId": "b9ea7a71-a948-47bf-9962-e8c01b6f5031",
        "colab": {
          "base_uri": "https://localhost:8080/",
          "height": 52
        }
      },
      "source": [
        "# To get the output as a probability\n",
        "def sigmoid_activation(x):\n",
        "  return 1/(1 + torch.exp(-x))\n",
        "\n",
        "\n",
        "# Set the random seed so things are predictable\n",
        "torch.manual_seed(7)\n",
        "\n",
        "# Features are 5 random normal variable\n",
        "# 1 row and 5 columns \n",
        "features = torch.randn((1, 5))\n",
        "\n",
        "# create another tensor with the same shape as input\n",
        "weights = torch.randn_like(features)\n",
        "\n",
        "bias = torch.randn((1, 1))\n",
        "\n",
        "print(features, weights, bias)\n",
        "\n",
        "# To calculate the output of this network using the weights and bias\n",
        "\n",
        "result = sigmoid_activation(torch.mm(features, weights.view(5, 1)) + bias)\n",
        "print(result)\n",
        "      "
      ],
      "execution_count": 2,
      "outputs": [
        {
          "output_type": "stream",
          "text": [
            "tensor([[-0.1468,  0.7861,  0.9468, -1.1143,  1.6908]]) tensor([[-0.8948, -0.3556,  1.2324,  0.1382, -1.6822]]) tensor([[0.3177]])\n",
            "tensor([[0.1595]])\n"
          ],
          "name": "stdout"
        }
      ]
    },
    {
      "cell_type": "markdown",
      "metadata": {
        "id": "iZoPykoEvonD",
        "colab_type": "text"
      },
      "source": [
        "# Basic Multilayer Neural Network With Matrices"
      ]
    },
    {
      "cell_type": "code",
      "metadata": {
        "id": "phgnhkonvuBu",
        "colab_type": "code",
        "outputId": "12f77a8b-fa36-472d-b7e9-ae150d733c2a",
        "colab": {
          "base_uri": "https://localhost:8080/",
          "height": 35
        }
      },
      "source": [
        "torch.manual_seed(7)\n",
        "\n",
        "features = torch.randn((1, 3))\n",
        "n_input = features.shape[1]\n",
        "n_hidden = 2\n",
        "n_output = 1\n",
        "\n",
        "# question: why does it not have (), but B1's do?\n",
        "W1 = torch.randn((n_input, n_hidden))\n",
        "W2 = torch.randn((n_hidden, n_output))\n",
        "\n",
        "B1 = torch.randn((1, n_hidden))\n",
        "B2 = torch.randn((1, n_output))\n",
        "\n",
        "hidden_output = sigmoid_activation(torch.mm(features, W1) + B1)\n",
        "output = sigmoid_activation(torch.mm(hidden_output, W2) + B2)\n",
        "print(output)"
      ],
      "execution_count": 3,
      "outputs": [
        {
          "output_type": "stream",
          "text": [
            "tensor([[0.3171]])\n"
          ],
          "name": "stdout"
        }
      ]
    },
    {
      "cell_type": "markdown",
      "metadata": {
        "id": "qKKs2hJKyiBV",
        "colab_type": "text"
      },
      "source": [
        "# Neural Network W/ MNIST"
      ]
    },
    {
      "cell_type": "code",
      "metadata": {
        "id": "hp4VuNwIyhM7",
        "colab_type": "code",
        "outputId": "be5daca9-9cf5-4dab-9c38-dc8b0507f0a6",
        "colab": {
          "base_uri": "https://localhost:8080/",
          "height": 987
        }
      },
      "source": [
        "%matplotlib inline\n",
        "%config InlineBackend.figure_format = 'retina'\n",
        "import helper\n",
        "import matplotlib.pyplot as plt\n",
        "\n",
        "from torchvision import datasets, transforms\n",
        "\n",
        "'''\n",
        "Transforms: it does image transformations\n",
        "\n",
        "Compose: common image transformations can be chanined together using Compose.\n",
        "'''\n",
        "transform = transforms.Compose([\n",
        "    transforms.ToTensor(),\n",
        "    transforms.Normalize((0.5,), (0.5,)),\n",
        "])\n",
        "# Download and load the training data\n",
        "trainset = datasets.MNIST('./', download=True, train=True, transform=transform)\n",
        "trainloader = torch.utils.data.DataLoader(trainset, batch_size=64, shuffle=True)\n",
        "\n",
        "!wget https://github.com/gitskim/Pasion/raw/master/diving.mat\n",
        "!wget https://raw.githubusercontent.com/gitskim/Pasion/master/Diving.txt"
      ],
      "execution_count": 4,
      "outputs": [
        {
          "output_type": "stream",
          "text": [
            "\r0it [00:00, ?it/s]"
          ],
          "name": "stderr"
        },
        {
          "output_type": "stream",
          "text": [
            "Downloading http://yann.lecun.com/exdb/mnist/train-images-idx3-ubyte.gz to ./MNIST/raw/train-images-idx3-ubyte.gz\n"
          ],
          "name": "stdout"
        },
        {
          "output_type": "stream",
          "text": [
            "9920512it [00:03, 2556664.97it/s]                             \n"
          ],
          "name": "stderr"
        },
        {
          "output_type": "stream",
          "text": [
            "Extracting ./MNIST/raw/train-images-idx3-ubyte.gz\n"
          ],
          "name": "stdout"
        },
        {
          "output_type": "stream",
          "text": [
            "\r0it [00:00, ?it/s]"
          ],
          "name": "stderr"
        },
        {
          "output_type": "stream",
          "text": [
            "Downloading http://yann.lecun.com/exdb/mnist/train-labels-idx1-ubyte.gz to ./MNIST/raw/train-labels-idx1-ubyte.gz\n"
          ],
          "name": "stdout"
        },
        {
          "output_type": "stream",
          "text": [
            "32768it [00:00, 58340.20it/s]                           \n",
            "0it [00:00, ?it/s]"
          ],
          "name": "stderr"
        },
        {
          "output_type": "stream",
          "text": [
            "Extracting ./MNIST/raw/train-labels-idx1-ubyte.gz\n",
            "Downloading http://yann.lecun.com/exdb/mnist/t10k-images-idx3-ubyte.gz to ./MNIST/raw/t10k-images-idx3-ubyte.gz\n"
          ],
          "name": "stdout"
        },
        {
          "output_type": "stream",
          "text": [
            "1654784it [00:01, 955371.27it/s]                             \n",
            "0it [00:00, ?it/s]"
          ],
          "name": "stderr"
        },
        {
          "output_type": "stream",
          "text": [
            "Extracting ./MNIST/raw/t10k-images-idx3-ubyte.gz\n",
            "Downloading http://yann.lecun.com/exdb/mnist/t10k-labels-idx1-ubyte.gz to ./MNIST/raw/t10k-labels-idx1-ubyte.gz\n"
          ],
          "name": "stdout"
        },
        {
          "output_type": "stream",
          "text": [
            "8192it [00:00, 22135.80it/s]            \n",
            "0it [00:00, ?it/s]"
          ],
          "name": "stderr"
        },
        {
          "output_type": "stream",
          "text": [
            "Extracting ./MNIST/raw/t10k-labels-idx1-ubyte.gz\n",
            "Processing...\n",
            "Done!\n",
            "Downloading http://yann.lecun.com/exdb/mnist/train-images-idx3-ubyte.gz to /root/.pytorch/MNIST_data/MNIST/raw/train-images-idx3-ubyte.gz\n"
          ],
          "name": "stdout"
        },
        {
          "output_type": "stream",
          "text": [
            "9920512it [00:02, 4343512.60it/s]                             \n"
          ],
          "name": "stderr"
        },
        {
          "output_type": "stream",
          "text": [
            "Extracting /root/.pytorch/MNIST_data/MNIST/raw/train-images-idx3-ubyte.gz\n"
          ],
          "name": "stdout"
        },
        {
          "output_type": "stream",
          "text": [
            "\r0it [00:00, ?it/s]"
          ],
          "name": "stderr"
        },
        {
          "output_type": "stream",
          "text": [
            "Downloading http://yann.lecun.com/exdb/mnist/train-labels-idx1-ubyte.gz to /root/.pytorch/MNIST_data/MNIST/raw/train-labels-idx1-ubyte.gz\n"
          ],
          "name": "stdout"
        },
        {
          "output_type": "stream",
          "text": [
            "32768it [00:00, 57314.80it/s]                           \n",
            "0it [00:00, ?it/s]"
          ],
          "name": "stderr"
        },
        {
          "output_type": "stream",
          "text": [
            "Extracting /root/.pytorch/MNIST_data/MNIST/raw/train-labels-idx1-ubyte.gz\n",
            "Downloading http://yann.lecun.com/exdb/mnist/t10k-images-idx3-ubyte.gz to /root/.pytorch/MNIST_data/MNIST/raw/t10k-images-idx3-ubyte.gz\n"
          ],
          "name": "stdout"
        },
        {
          "output_type": "stream",
          "text": [
            "1654784it [00:01, 959167.59it/s]                             \n",
            "0it [00:00, ?it/s]"
          ],
          "name": "stderr"
        },
        {
          "output_type": "stream",
          "text": [
            "Extracting /root/.pytorch/MNIST_data/MNIST/raw/t10k-images-idx3-ubyte.gz\n",
            "Downloading http://yann.lecun.com/exdb/mnist/t10k-labels-idx1-ubyte.gz to /root/.pytorch/MNIST_data/MNIST/raw/t10k-labels-idx1-ubyte.gz\n"
          ],
          "name": "stdout"
        },
        {
          "output_type": "stream",
          "text": [
            "8192it [00:00, 22065.86it/s]            \n"
          ],
          "name": "stderr"
        },
        {
          "output_type": "stream",
          "text": [
            "Extracting /root/.pytorch/MNIST_data/MNIST/raw/t10k-labels-idx1-ubyte.gz\n",
            "Processing...\n",
            "Done!\n",
            "--2019-08-20 04:09:55--  https://github.com/gitskim/Pasion/raw/master/diving.mat\n",
            "Resolving github.com (github.com)... 140.82.114.3\n",
            "Connecting to github.com (github.com)|140.82.114.3|:443... connected.\n",
            "HTTP request sent, awaiting response... 302 Found\n",
            "Location: https://raw.githubusercontent.com/gitskim/Pasion/master/diving.mat [following]\n",
            "--2019-08-20 04:09:56--  https://raw.githubusercontent.com/gitskim/Pasion/master/diving.mat\n",
            "Resolving raw.githubusercontent.com (raw.githubusercontent.com)... 151.101.0.133, 151.101.64.133, 151.101.128.133, ...\n",
            "Connecting to raw.githubusercontent.com (raw.githubusercontent.com)|151.101.0.133|:443... connected.\n",
            "HTTP request sent, awaiting response... 200 OK\n",
            "Length: 9591612 (9.1M) [application/octet-stream]\n",
            "Saving to: ‘diving.mat’\n",
            "\n",
            "diving.mat          100%[===================>]   9.15M  --.-KB/s    in 0.1s    \n",
            "\n",
            "2019-08-20 04:10:00 (66.5 MB/s) - ‘diving.mat’ saved [9591612/9591612]\n",
            "\n",
            "--2019-08-20 04:10:01--  https://raw.githubusercontent.com/gitskim/Pasion/master/Diving.txt\n",
            "Resolving raw.githubusercontent.com (raw.githubusercontent.com)... 151.101.0.133, 151.101.64.133, 151.101.128.133, ...\n",
            "Connecting to raw.githubusercontent.com (raw.githubusercontent.com)|151.101.0.133|:443... connected.\n",
            "HTTP request sent, awaiting response... 200 OK\n",
            "Length: 6139 (6.0K) [text/plain]\n",
            "Saving to: ‘Diving.txt’\n",
            "\n",
            "Diving.txt          100%[===================>]   6.00K  --.-KB/s    in 0s      \n",
            "\n",
            "2019-08-20 04:10:02 (107 MB/s) - ‘Diving.txt’ saved [6139/6139]\n",
            "\n"
          ],
          "name": "stdout"
        }
      ]
    },
    {
      "cell_type": "code",
      "metadata": {
        "id": "k3Qt2mK3NkuJ",
        "colab_type": "code",
        "outputId": "2207967f-e9c7-4ca4-e68c-d0c159b79a82",
        "colab": {
          "base_uri": "https://localhost:8080/",
          "height": 86
        }
      },
      "source": [
        "dataiter = iter(trainloader)\n",
        "images, labels = dataiter.next()\n",
        "print(type(images))\n",
        "print(type(labels))\n",
        "print(images.shape)\n",
        "print(labels.shape)"
      ],
      "execution_count": 5,
      "outputs": [
        {
          "output_type": "stream",
          "text": [
            "<class 'torch.Tensor'>\n",
            "<class 'torch.Tensor'>\n",
            "torch.Size([64, 1, 28, 28])\n",
            "torch.Size([64])\n"
          ],
          "name": "stdout"
        }
      ]
    },
    {
      "cell_type": "code",
      "metadata": {
        "id": "cJnL8kECPRR4",
        "colab_type": "code",
        "outputId": "1b148176-ee93-42c5-9c0f-798dde30e7c7",
        "colab": {
          "base_uri": "https://localhost:8080/",
          "height": 267
        }
      },
      "source": [
        "plt.imshow(images[1].numpy().squeeze(), cmap='Greys_r');\n"
      ],
      "execution_count": 6,
      "outputs": [
        {
          "output_type": "display_data",
          "data": {
            "image/png": "[encoded data removed]",
            "text/plain": [
              "<Figure size 432x288 with 1 Axes>"
            ]
          },
          "metadata": {
            "tags": [],
            "image/png": {
              "width": 253,
              "height": 250
            }
          }
        }
      ]
    },
    {
      "cell_type": "code",
      "metadata": {
        "id": "A9Hc5IVLPbwP",
        "colab_type": "code",
        "outputId": "cb5f3248-3863-478e-d570-cd5b50e5c94b",
        "colab": {
          "base_uri": "https://localhost:8080/",
          "height": 285
        }
      },
      "source": [
        "# flatten the input images\n",
        "# question: how does it pack and unpack using view, so that it retreives exactly same image?\n",
        "reshaped_images = images.view(64, 784)\n",
        "print(reshaped_images.shape)\n",
        "plt.imshow(reshaped_images[1].view(28, 28).numpy(), cmap='Greys_r');\n",
        "\n",
        "input_size = 64\n",
        "input_dim = 784\n",
        "hidden_state_size = 256\n",
        "output_size = 10\n",
        "W1 = torch.randn((input_dim, hidden_state_size))\n",
        "# Question: how can you create a bias vector not a matrix to add to the matrix?\n",
        "B1 = torch.randn(hidden_state_size)\n",
        "\n",
        "W2 = torch.randn((hidden_state_size, output_size))\n",
        "B2 = torch.randn((output_size))\n",
        "\n",
        "W1_calc = sigmoid_activation(torch.mm(reshaped_images, W1))\n",
        "\n",
        "result = sigmoid_activation(torch.mm(W1_calc, W2) + B2)\n"
      ],
      "execution_count": 7,
      "outputs": [
        {
          "output_type": "stream",
          "text": [
            "torch.Size([64, 784])\n"
          ],
          "name": "stdout"
        },
        {
          "output_type": "display_data",
          "data": {
            "image/png": "[encoded data removed]",
            "text/plain": [
              "<Figure size 432x288 with 1 Axes>"
            ]
          },
          "metadata": {
            "tags": [],
            "image/png": {
              "width": 253,
              "height": 250
            }
          }
        }
      ]
    },
    {
      "cell_type": "markdown",
      "metadata": {
        "id": "BtrG-Zh8riOE",
        "colab_type": "text"
      },
      "source": [
        "* if no dimension is mentioned, it will sum every value in the matrix resulting in one value. \n",
        "* if dimension is 0, it sums over rows, so the result is a vector with total column number of entries.\n",
        "Then each row will be divided by a different number.\n",
        "* if dimension is 1, it sums over columns, so the result is a vector with total row number of entries. Then each column will **not be able to be divided by a different number** this column vector, because PyTorch doesn't enable division across rows, but only columns by default, which is called **broadcasting**. If you want to divide a matrix by a column vector, it has to be modified  to be a matrix. e.g. (9) should be modified to (9, 1) to divide the matrix of (9, anyint)\n",
        "\n"
      ]
    },
    {
      "cell_type": "markdown",
      "metadata": {
        "id": "aBxLO08GrfWe",
        "colab_type": "text"
      },
      "source": [
        ""
      ]
    },
    {
      "cell_type": "code",
      "metadata": {
        "id": "7SUX01UXgYIV",
        "colab_type": "code",
        "outputId": "31e486bd-d24f-46ca-9b83-26edcf56ad60",
        "colab": {
          "base_uri": "https://localhost:8080/",
          "height": 259
        }
      },
      "source": [
        "# see how summing in different dimension results into a different result\n",
        "arr = np.array([[2, 3, 5], [5, 3, 2]], dtype=np.float)\n",
        "arr = torch.tensor(arr)\n",
        "print(arr)\n",
        "\n",
        "msum = torch.sum(arr, dim=0)\n",
        "print(msum.shape)\n",
        "res = arr / msum\n",
        "print(res)\n",
        "\n",
        "# softmax\n",
        "def softmax(x):\n",
        "  print(\"inside softmax: %d\", x.shape)\n",
        "  denominator = torch.sum(torch.exp(x), dim=1)\n",
        "  denominator_real = denominator.view(-1, 1)\n",
        "  \n",
        "  # question: what is the difference between (64) and (64, 1) visually?\n",
        "  \n",
        "  return torch.exp(x) / denominator_real\n",
        "  \n",
        "  \n",
        "prob = softmax(result)\n",
        "\n",
        "# do double check by summing over each row and making sure it is 1. \n",
        "print(torch.sum(prob, dim=1))"
      ],
      "execution_count": 8,
      "outputs": [
        {
          "output_type": "stream",
          "text": [
            "tensor([[2., 3., 5.],\n",
            "        [5., 3., 2.]], dtype=torch.float64)\n",
            "torch.Size([3])\n",
            "tensor([[0.2857, 0.5000, 0.7143],\n",
            "        [0.7143, 0.5000, 0.2857]], dtype=torch.float64)\n",
            "inside softmax: %d torch.Size([64, 10])\n",
            "tensor([1.0000, 1.0000, 1.0000, 1.0000, 1.0000, 1.0000, 1.0000, 1.0000, 1.0000,\n",
            "        1.0000, 1.0000, 1.0000, 1.0000, 1.0000, 1.0000, 1.0000, 1.0000, 1.0000,\n",
            "        1.0000, 1.0000, 1.0000, 1.0000, 1.0000, 1.0000, 1.0000, 1.0000, 1.0000,\n",
            "        1.0000, 1.0000, 1.0000, 1.0000, 1.0000, 1.0000, 1.0000, 1.0000, 1.0000,\n",
            "        1.0000, 1.0000, 1.0000, 1.0000, 1.0000, 1.0000, 1.0000, 1.0000, 1.0000,\n",
            "        1.0000, 1.0000, 1.0000, 1.0000, 1.0000, 1.0000, 1.0000, 1.0000, 1.0000,\n",
            "        1.0000, 1.0000, 1.0000, 1.0000, 1.0000, 1.0000, 1.0000, 1.0000, 1.0000,\n",
            "        1.0000])\n"
          ],
          "name": "stdout"
        }
      ]
    },
    {
      "cell_type": "markdown",
      "metadata": {
        "id": "U-5sPEsgwLAb",
        "colab_type": "text"
      },
      "source": [
        "# Building Networks With PyTorch\n",
        "\n",
        "1. You need to subclass it from **nn.Module**\n",
        "2. You need to call **nn.Module**'s superclass\n",
        "\n",
        "```c\n",
        "class Network(nn.Module):\n",
        "  def __init__(self):\n",
        "    super().__init__()\n",
        "```\n",
        "\n",
        "3. Linear layer is the combination of weights and bias matrices. \n"
      ]
    },
    {
      "cell_type": "code",
      "metadata": {
        "id": "iSkHsy2NwfqX",
        "colab_type": "code",
        "outputId": "c31a699d-4714-49a3-a9d0-deb18b49ded0",
        "colab": {
          "base_uri": "https://localhost:8080/",
          "height": 121
        }
      },
      "source": [
        "from torch import nn\n",
        "\n",
        "class Network(nn.Module):\n",
        "  def __init__(self, hidden1_input_size, hidden1_output_size, hidden2_output_size):\n",
        "    super().__init__()\n",
        "    self.hidden = nn.Linear(hidden1_input_size, hidden1_output_size)\n",
        "    self.output = nn.Linear(hidden1_output_size, hidden2_output_size)\n",
        "    self.sigmoid = nn.Sigmoid()\n",
        "    self.softmax = nn.Softmax(dim=0)\n",
        "  \n",
        "  \n",
        "  def forward(self, x):\n",
        "    x = self.hidden(x)\n",
        "    x = self.sigmoid(x)\n",
        "    x = self.output(x)\n",
        "    x = self.softmax(x)\n",
        "    \n",
        "    return x\n",
        "   \n",
        "    \n",
        "model = Network(784, 256, 10)\n",
        "print(model)"
      ],
      "execution_count": 9,
      "outputs": [
        {
          "output_type": "stream",
          "text": [
            "Network(\n",
            "  (hidden): Linear(in_features=784, out_features=256, bias=True)\n",
            "  (output): Linear(in_features=256, out_features=10, bias=True)\n",
            "  (sigmoid): Sigmoid()\n",
            "  (softmax): Softmax()\n",
            ")\n"
          ],
          "name": "stdout"
        }
      ]
    },
    {
      "cell_type": "markdown",
      "metadata": {
        "id": "BhZoKMKF2jfQ",
        "colab_type": "text"
      },
      "source": [
        "Another way to do this is to call <code>Sigmoid</code> from <code>import torch.nn.functional as F</code>. If you use it from nn, it creates objects and classes, but if you use it from functional, it won't create any objects and classes, because it simply does it functionally. "
      ]
    },
    {
      "cell_type": "code",
      "metadata": {
        "id": "jOsdzMyJ3QR6",
        "colab_type": "code",
        "colab": {}
      },
      "source": [
        "import torch.nn.functional as F\n",
        "\n",
        "class Network(nn.Module):\n",
        "    def __init__(self):\n",
        "        super().__init__()\n",
        "        # Inputs to hidden layer linear transformation\n",
        "        self.hidden = nn.Linear(784, 256)\n",
        "        # Output layer, 10 units - one for each digit\n",
        "        self.output = nn.Linear(256, 10)\n",
        "        \n",
        "    def forward(self, x):\n",
        "        # Hidden layer with sigmoid activation\n",
        "        x = F.sigmoid(self.hidden(x))\n",
        "        # Output layer with softmax activation\n",
        "        x = F.softmax(self.output(x), dim=1)\n",
        "        \n",
        "        return x"
      ],
      "execution_count": 0,
      "outputs": []
    },
    {
      "cell_type": "markdown",
      "metadata": {
        "id": "Z0yAZh9aOOF3",
        "colab_type": "text"
      },
      "source": [
        "# Sequential"
      ]
    },
    {
      "cell_type": "code",
      "metadata": {
        "id": "S0p5sUrFOQos",
        "colab_type": "code",
        "colab": {
          "base_uri": "https://localhost:8080/",
          "height": 69
        },
        "outputId": "e0969bc9-7ed3-4c99-ef4f-3501d42a63ac"
      },
      "source": [
        "model = nn.Sequential(nn.Linear(784, 128),\n",
        "                      nn.ReLU(),\n",
        "                      nn.Linear(128, 64),\n",
        "                      nn.ReLU(),\n",
        "                      nn.Linear(64, 10))\n",
        "\n",
        "criterion = nn.CrossEntropyLoss()\n",
        "\n",
        "#question - learn more about next and iter\n",
        "images, labels = next(iter(trainloader))\n",
        "\n",
        "#labels = one_hot_encoding(labels, 10)\n",
        "reshaped_images = images.view(images.shape[0], 784)\n",
        "print(reshaped_images.shape)\n",
        "prob = model(reshaped_images)\n",
        "print(prob.shape)\n",
        "\n",
        "loss = criterion(prob, labels)\n",
        "\n",
        "print(loss)"
      ],
      "execution_count": 44,
      "outputs": [
        {
          "output_type": "stream",
          "text": [
            "torch.Size([64, 784])\n",
            "torch.Size([64, 10])\n",
            "tensor(2.2795, grad_fn=<NllLossBackward>)\n"
          ],
          "name": "stdout"
        }
      ]
    },
    {
      "cell_type": "code",
      "metadata": {
        "id": "SRuGkGRqAA2Z",
        "colab_type": "code",
        "colab": {
          "base_uri": "https://localhost:8080/",
          "height": 69
        },
        "outputId": "27ca22f8-bcca-4dfc-f589-b8ac408d8177"
      },
      "source": [
        "model = nn.Sequential(nn.Linear(784, 128),\n",
        "                      nn.ReLU(),\n",
        "                      nn.Linear(128, 64),\n",
        "                      nn.ReLU(),\n",
        "                      nn.Linear(64, 10),\n",
        "                      nn.LogSoftmax(dim=1))\n",
        "\n",
        "criterion = nn.NLLLoss()\n",
        "\n",
        "#question - learn more about next and iter\n",
        "images, labels = next(iter(trainloader))\n",
        "\n",
        "#labels = one_hot_encoding(labels, 10)\n",
        "reshaped_images = images.view(images.shape[0], 784)\n",
        "print(reshaped_images.shape)\n",
        "prob = model(reshaped_images)\n",
        "print(prob.shape)\n",
        "\n",
        "loss = criterion(prob, labels)\n",
        "\n",
        "print(loss)"
      ],
      "execution_count": 49,
      "outputs": [
        {
          "output_type": "stream",
          "text": [
            "torch.Size([64, 784])\n",
            "torch.Size([64, 10])\n",
            "tensor(2.3261, grad_fn=<NllLossBackward>)\n"
          ],
          "name": "stdout"
        }
      ]
    },
    {
      "cell_type": "markdown",
      "metadata": {
        "id": "GuXWJUiScD1p",
        "colab_type": "text"
      },
      "source": [
        "# Autograd\n",
        "\n",
        "y = x^2\n",
        "\n",
        "z = mean(y)\n",
        "\n",
        "dz/dx = question: how to calculate it? x/2\n",
        "\n",
        "\n"
      ]
    },
    {
      "cell_type": "code",
      "metadata": {
        "id": "BjqaQO_ycFoL",
        "colab_type": "code",
        "outputId": "6bfd1c31-1314-4ebf-a845-55d63d87f852",
        "colab": {
          "base_uri": "https://localhost:8080/",
          "height": 69
        }
      },
      "source": [
        "x = torch.randn([2, 2], requires_grad=True)\n",
        "y = x ** 2\n",
        "z = y.mean()\n",
        "\n",
        "print(y)\n",
        "print(x.grad)\n"
      ],
      "execution_count": 50,
      "outputs": [
        {
          "output_type": "stream",
          "text": [
            "tensor([[1.0300, 1.4417],\n",
            "        [0.0463, 0.0328]], grad_fn=<PowBackward0>)\n",
            "None\n"
          ],
          "name": "stdout"
        }
      ]
    },
    {
      "cell_type": "code",
      "metadata": {
        "id": "cHj6lz6UGF1u",
        "colab_type": "code",
        "colab": {
          "base_uri": "https://localhost:8080/",
          "height": 86
        },
        "outputId": "ee40dda2-0156-4f4e-ebaf-adb1d4c4c923"
      },
      "source": [
        "z.backward()\n",
        "print(x.grad)\n",
        "print(x/2)"
      ],
      "execution_count": 47,
      "outputs": [
        {
          "output_type": "stream",
          "text": [
            "tensor([[-1.0744,  0.4848],\n",
            "        [ 0.2476, -0.0179]])\n",
            "tensor([[-1.0744,  0.4848],\n",
            "        [ 0.2476, -0.0179]], grad_fn=<DivBackward0>)\n"
          ],
          "name": "stdout"
        }
      ]
    },
    {
      "cell_type": "markdown",
      "metadata": {
        "id": "ZnEhnGVjVFYb",
        "colab_type": "text"
      },
      "source": [
        "# Training the network\n",
        "\n",
        "you need to send what you want to do gradient descent on. e.g. you want to update model's parameters, so you do the following and specify the learning rate. "
      ]
    },
    {
      "cell_type": "code",
      "metadata": {
        "id": "fcSHbZdjVMF6",
        "colab_type": "code",
        "colab": {
          "base_uri": "https://localhost:8080/",
          "height": 155
        },
        "outputId": "39b34b68-0d2b-4775-8c7c-79b10a9eee10"
      },
      "source": [
        "from torch import optim\n",
        "\n",
        "optimizer = optim.SGD(model.parameters(), lr=0.01)\n",
        "print(model)"
      ],
      "execution_count": 59,
      "outputs": [
        {
          "output_type": "stream",
          "text": [
            "Sequential(\n",
            "  (0): Linear(in_features=784, out_features=128, bias=True)\n",
            "  (1): ReLU()\n",
            "  (2): Linear(in_features=128, out_features=64, bias=True)\n",
            "  (3): ReLU()\n",
            "  (4): Linear(in_features=64, out_features=10, bias=True)\n",
            "  (5): LogSoftmax()\n",
            ")\n"
          ],
          "name": "stdout"
        }
      ]
    },
    {
      "cell_type": "markdown",
      "metadata": {
        "id": "t8dK74mCarhv",
        "colab_type": "text"
      },
      "source": [
        "1. Make a forward pass through the network\n",
        "2. Use the network output to calculate the loss\n",
        "3. Perform a backward pass through the network to calculate the gradients\n",
        "4. Take a step with the optimizer to update the weights\n",
        "\n",
        "The folloing shows how the first linear layer's weight changes as the gradient descent is performed just once."
      ]
    },
    {
      "cell_type": "code",
      "metadata": {
        "id": "1yOnjsMNa-Iz",
        "colab_type": "code",
        "colab": {
          "base_uri": "https://localhost:8080/",
          "height": 449
        },
        "outputId": "e87573c9-8f4c-407f-c634-9ce3a0c66181"
      },
      "source": [
        "# 1\n",
        "images, labels = next(iter(trainloader))\n",
        "prob = model(images.view(-1, 784))\n",
        "\n",
        "# 2\n",
        "loss = criterion(prob, labels)\n",
        "print(\"Initial weigths shape: -, weights : - \", model[0], model[0].weight)\n",
        "\n",
        "# 3\n",
        "loss.backward()\n",
        "print(\"Gradients: - \", model[0].weight.grad)\n",
        "\n",
        "# 4\n",
        "optimizer.step()\n",
        "print(\"After updates: - \", model[0].weight)"
      ],
      "execution_count": 60,
      "outputs": [
        {
          "output_type": "stream",
          "text": [
            "Initial weigths shape: -, weights : -  Linear(in_features=784, out_features=128, bias=True) Parameter containing:\n",
            "tensor([[-0.0008,  0.0251,  0.0348,  ..., -0.0287, -0.0012, -0.0184],\n",
            "        [-0.0053,  0.0109, -0.0030,  ...,  0.0240,  0.0301, -0.0075],\n",
            "        [-0.0198, -0.0251,  0.0172,  ...,  0.0175,  0.0027,  0.0302],\n",
            "        ...,\n",
            "        [ 0.0156, -0.0184, -0.0172,  ..., -0.0302,  0.0027, -0.0034],\n",
            "        [-0.0337, -0.0024,  0.0079,  ...,  0.0341, -0.0148,  0.0222],\n",
            "        [ 0.0348, -0.0125, -0.0202,  ..., -0.0322, -0.0153, -0.0341]],\n",
            "       requires_grad=True)\n",
            "Gradients: -  tensor([[ 0.0000,  0.0000,  0.0000,  ...,  0.0000,  0.0000,  0.0000],\n",
            "        [ 0.0009,  0.0009,  0.0009,  ...,  0.0009,  0.0009,  0.0009],\n",
            "        [ 0.0009,  0.0009,  0.0009,  ...,  0.0009,  0.0009,  0.0009],\n",
            "        ...,\n",
            "        [ 0.0000,  0.0000,  0.0000,  ...,  0.0000,  0.0000,  0.0000],\n",
            "        [ 0.0097,  0.0097,  0.0097,  ...,  0.0097,  0.0097,  0.0097],\n",
            "        [-0.0110, -0.0110, -0.0110,  ..., -0.0110, -0.0110, -0.0110]])\n",
            "After updates: -  Parameter containing:\n",
            "tensor([[-0.0008,  0.0251,  0.0348,  ..., -0.0287, -0.0012, -0.0184],\n",
            "        [-0.0053,  0.0109, -0.0031,  ...,  0.0240,  0.0301, -0.0075],\n",
            "        [-0.0199, -0.0251,  0.0171,  ...,  0.0175,  0.0027,  0.0302],\n",
            "        ...,\n",
            "        [ 0.0156, -0.0184, -0.0172,  ..., -0.0302,  0.0027, -0.0034],\n",
            "        [-0.0338, -0.0025,  0.0078,  ...,  0.0340, -0.0149,  0.0222],\n",
            "        [ 0.0349, -0.0124, -0.0201,  ..., -0.0321, -0.0152, -0.0340]],\n",
            "       requires_grad=True)\n"
          ],
          "name": "stdout"
        }
      ]
    },
    {
      "cell_type": "markdown",
      "metadata": {
        "id": "rJBrH95QcxmH",
        "colab_type": "text"
      },
      "source": [
        "## Training Multiple Epochs (Putting it all together)\n",
        "\n",
        "**VERY IMPORTANT**: When you have multiple passes to update the **same** parameters, gradients are **accumulated**. Therefore for each pass, you need to call <code>optimizer.zero_grad()</code>."
      ]
    },
    {
      "cell_type": "code",
      "metadata": {
        "id": "mSIbaVvqdpp9",
        "colab_type": "code",
        "colab": {
          "base_uri": "https://localhost:8080/",
          "height": 104
        },
        "outputId": "abcc56a2-cdc4-4a56-a0db-0d866af9d784"
      },
      "source": [
        "model = nn.Sequential(nn.Linear(784, 128),\n",
        "                      nn.ReLU(),\n",
        "                      nn.Linear(128, 64),\n",
        "                      nn.ReLU(),\n",
        "                      nn.Linear(64, 10),\n",
        "                      nn.LogSoftmax(dim=1))\n",
        "\n",
        "criterion = nn.NLLLoss()\n",
        "optimizer = optim.SGD(model.parameters(), 0.003)\n",
        "epochs = 5\n",
        "\n",
        "for epoch in range(epochs):\n",
        "  current_loss = 0\n",
        "  \n",
        "  for images, labels in trainloader:\n",
        "    # 0. clean out the optimizer\n",
        "    optimizer.zero_grad()\n",
        "    \n",
        "    # 1. Forward pass\n",
        "    # Question: Figure out why I can't use images.reshape_((-1, 784))\n",
        "    prob = model(images.view(-1, 784))\n",
        "    \n",
        "    # 2. calculate loss\n",
        "    loss = criterion(prob, labels)\n",
        "    current_loss += loss.item()/len(trainloader)\n",
        "    \n",
        "    # 3. calculate gradients\n",
        "    loss.backward()\n",
        "    \n",
        "    # 4. Update parameters based on gradients\n",
        "    optimizer.step()\n",
        "    \n",
        "    \n",
        "  print(\"epoch: %d, current_loss: %f\", epoch, current_loss)\n",
        "    "
      ],
      "execution_count": 69,
      "outputs": [
        {
          "output_type": "stream",
          "text": [
            "epoch: %d, current_loss: %f 0 1.9098771924911533\n",
            "epoch: %d, current_loss: %f 1 0.8632997169868266\n",
            "epoch: %d, current_loss: %f 2 0.5284624109898546\n",
            "epoch: %d, current_loss: %f 3 0.42913611832140347\n",
            "epoch: %d, current_loss: %f 4 0.3850373007309463\n"
          ],
          "name": "stdout"
        }
      ]
    },
    {
      "cell_type": "markdown",
      "metadata": {
        "id": "EHtHmm7Wm1Wv",
        "colab_type": "text"
      },
      "source": [
        "# Verification Step\n",
        "\n",
        "This step is equivalent to Keras' <code>predict</code>\n"
      ]
    },
    {
      "cell_type": "code",
      "metadata": {
        "id": "I1gxUr3Fc9-Y",
        "colab_type": "code",
        "outputId": "0403a46d-2e10-4086-e4d8-7f8b41d60581",
        "colab": {
          "base_uri": "https://localhost:8080/",
          "height": 244
        }
      },
      "source": [
        "def view_classify(img, ps, version=\"MNIST\"):\n",
        "    ''' Function for viewing an image and it's predicted classes.\n",
        "    '''\n",
        "    ps = ps.data.numpy().squeeze()\n",
        "\n",
        "    fig, (ax1, ax2) = plt.subplots(figsize=(6,9), ncols=2)\n",
        "    ax1.imshow(img.resize_(1, 28, 28).numpy().squeeze())\n",
        "    ax1.axis('off')\n",
        "    ax2.barh(np.arange(10), ps)\n",
        "    ax2.set_aspect(0.1)\n",
        "    ax2.set_yticks(np.arange(10))\n",
        "    if version == \"MNIST\":\n",
        "        ax2.set_yticklabels(np.arange(10))\n",
        "    elif version == \"Fashion\":\n",
        "        ax2.set_yticklabels(['T-shirt/top',\n",
        "                            'Trouser',\n",
        "                            'Pullover',\n",
        "                            'Dress',\n",
        "                            'Coat',\n",
        "                            'Sandal',\n",
        "                            'Shirt',\n",
        "                            'Sneaker',\n",
        "                            'Bag',\n",
        "                            'Ankle Boot'], size='small');\n",
        "    ax2.set_title('Class Probability')\n",
        "    ax2.set_xlim(0, 1.1)\n",
        "\n",
        "    plt.tight_layout()\n",
        "    \n",
        "    \n",
        "images, labels = next(iter(trainloader))\n",
        "img = images[0].view(1, 784)\n",
        "\n",
        "# Turn off gradients to speed up this part\n",
        "with torch.no_grad():\n",
        "  log_ps = model(img)\n",
        "  \n",
        "\n",
        "output = torch.exp(log_ps)\n",
        "\n",
        "view_classify(img, output)\n"
      ],
      "execution_count": 79,
      "outputs": [
        {
          "output_type": "display_data",
          "data": {
            "image/png": "[encoded data removed]",
            "text/plain": [
              "<Figure size 432x648 with 2 Axes>"
            ]
          },
          "metadata": {
            "tags": [],
            "image/png": {
              "width": 423,
              "height": 226
            }
          }
        }
      ]
    },
    {
      "cell_type": "markdown",
      "metadata": {
        "id": "LdVGvV2_3VLu",
        "colab_type": "text"
      },
      "source": [
        "NOTE: It turns out that networks tend to train a lot faster using ReLu instead of tanh or sigmoid activation functions ."
      ]
    },
    {
      "cell_type": "code",
      "metadata": {
        "id": "SCZqjOQB5aWt",
        "colab_type": "code",
        "colab": {}
      },
      "source": [
        "import subprocess\n",
        "import numpy as np\n",
        "import os.path\n",
        "import pickle\n",
        "import scipy.io as sio\n",
        "\n",
        "# TODO:\n",
        "#ANNOTATION_FILE = '/home/suhyunkim011/Pasion/Diving.txt'\n",
        "ANNOTATION_FILE = 'Diving.txt'\n",
        "\n",
        "#MAT_FILE = '/home/suhyunkim011/Pasion/diving.mat'\n",
        "MAT_FILE = 'diving.mat'\n",
        "\n",
        "def get_pose_labels2():\n",
        "    # move the pictures to a certain directory and create labels\n",
        "    contents = sio.loadmat(MAT_FILE)\n",
        "    # print(len(contents))\n",
        "    tracked = contents['boxes_tracked_wholevideo']\n",
        "    # print(tracked)\n",
        "    # print(len(tracked))\n",
        "    # (298387, 107)\n",
        "    # print(tracked.shape)\n",
        "\n",
        "    # print(tracked[0].shape)\n",
        "\n",
        "    # batchsize = 298387; timesteps = 202; shape = 104;\n",
        "    arr_frame = []\n",
        "    arr_score = np.array([])\n",
        "    arr_score_flat = []\n",
        "    arr_difficulty = np.array([])\n",
        "    arr_difficulty_flat = []\n",
        "\n",
        "    with open(ANNOTATION_FILE) as filename:\n",
        "        max_counter = 202\n",
        "        group_counter = 0\n",
        "        one_group_counter = 0\n",
        "        max_one_group_counter = 202\n",
        "        supposed_to_be_counter = 0\n",
        "        for line in filename:\n",
        "            # print(line)\n",
        "            if '#' in line:\n",
        "                continue\n",
        "\n",
        "            if 'A' in line:\n",
        "\n",
        "                group_counter += 1\n",
        "                line_arr = line.split()\n",
        "                # print(line_arr[0])\n",
        "                # print(line_arr[1])\n",
        "                start = -1\n",
        "                end = -1\n",
        "\n",
        "                for i in range(0, 2):\n",
        "                    if i == 0:\n",
        "                        start = line_arr[0]\n",
        "                        start = int(start)\n",
        "\n",
        "                    elif i == 1:\n",
        "                        end = line_arr[1]\n",
        "                        end = int(end)\n",
        "\n",
        "                start = start - 1\n",
        "\n",
        "                pose_group = np.zeros([202, 104])\n",
        "\n",
        "                for i in range(start, end + 1):\n",
        "                    supposed_to_be_counter += 1\n",
        "                    converted = tracked[i][:104]\n",
        "                    pose_group[one_group_counter, :] = converted\n",
        "                    one_group_counter += 1\n",
        "\n",
        "                if one_group_counter > max_one_group_counter:\n",
        "                    max_one_group_counter = one_group_counter\n",
        "                    print(\"-------------*********-----------------WARNING-------------*********-----------------: %d\", one_group_counter)\n",
        "                # len(pose_group): 169; one_group_counter: 169; max_one_group_counter: 202\n",
        "\n",
        "                # print(pose_group)\n",
        "                arr_frame.append(pose_group)  # figure out why it worked when I put it above the if one_group_counter > max_one_group_counter:\n",
        "                one_group_counter = 0\n",
        "\n",
        "            if 'Score' in line:\n",
        "                line_arr = line.split()\n",
        "                arr_sub_total_score = np.empty(max_counter)\n",
        "                arr_sub_total_score.fill(line_arr[2])\n",
        "\n",
        "                arr_sub_difficulty_score = np.empty(max_counter)\n",
        "                arr_sub_difficulty_score.fill(line_arr[3])\n",
        "\n",
        "                arr_score = np.append(arr_score, arr_sub_total_score)\n",
        "                arr_difficulty = np.append(arr_difficulty, arr_sub_difficulty_score)\n",
        "                # print(arr_sub_total_score)\n",
        "\n",
        "                arr_score_flat.append(float(line_arr[2]))\n",
        "                arr_difficulty_flat.append(float(line_arr[3]))\n",
        "\n",
        "        # print(f'arr_frame: {len(arr_frame)}, arr_score_flat: {len(arr_score_flat)}, arr_difficulty_concat: {len(arr_difficulty_flat)}')\n",
        "        # print(f'arr_frame: {len(arr_frame)}')\n",
        "        # print(arr_frame[71])\n",
        "        print(np.array(arr_frame).shape)\n",
        "    return np.array(arr_frame), np.array(arr_score_flat), arr_difficulty_flat\n"
      ],
      "execution_count": 0,
      "outputs": []
    }
  ]
}