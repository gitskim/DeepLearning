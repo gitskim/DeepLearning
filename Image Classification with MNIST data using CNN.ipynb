{
 "cells": [
  {
   "cell_type": "markdown",
   "metadata": {},
   "source": [
    "In this notebook, I will classify images from the MNIST-dataset. The datasets consist of (TODO:). The images need to be preprocessed to be normaliezd and one-hot encoded. \n",
    "\n",
    "# Get the Data\n",
    "\n",
    "By importing input_data from tensorflow, you can simply call the function read_data_sets() and decide what folder to save the data, in this case, \"MNIST_data/\". one_hot is set to be false, because I want to show the one_hot encoding process manually. "
   ]
  },
  {
   "cell_type": "code",
   "execution_count": null,
   "metadata": {},
   "outputs": [],
   "source": [
    "import tensorflow as tf\n",
    "import numpy as np\n",
    "from tensorflow.examples.tutorials.mnist import input_data\n",
    "import os\n",
    "\n",
    "mnist = input_data.read_data_sets(\"MNIST_data/\", one_hot=False)"
   ]
  }
 ],
 "metadata": {
  "kernelspec": {
   "display_name": "Python 3",
   "language": "python",
   "name": "python3"
  },
  "language_info": {
   "codemirror_mode": {
    "name": "ipython",
    "version": 3
   },
   "file_extension": ".py",
   "mimetype": "text/x-python",
   "name": "python",
   "nbconvert_exporter": "python",
   "pygments_lexer": "ipython3",
   "version": "3.7.0"
  }
 },
 "nbformat": 4,
 "nbformat_minor": 2
}
